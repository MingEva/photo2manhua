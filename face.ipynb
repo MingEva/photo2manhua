{
  "nbformat": 4,
  "nbformat_minor": 0,
  "metadata": {
    "colab": {
      "name": "face.ipynb",
      "provenance": [],
      "collapsed_sections": [],
      "background_execution": "on"
    },
    "kernelspec": {
      "name": "python3",
      "display_name": "Python 3"
    },
    "language_info": {
      "name": "python"
    },
    "accelerator": "GPU"
  },
  "cells": [
    {
      "cell_type": "code",
      "execution_count": 1,
      "metadata": {
        "colab": {
          "base_uri": "https://localhost:8080/"
        },
        "id": "q1OIryVSagno",
        "outputId": "efcd1e49-313e-40e9-fb39-6fb24d11c486"
      },
      "outputs": [
        {
          "output_type": "stream",
          "name": "stdout",
          "text": [
            "Cloning into 'photo2cartoon'...\n",
            "remote: Enumerating objects: 137, done.\u001b[K\n",
            "remote: Counting objects: 100% (32/32), done.\u001b[K\n",
            "remote: Compressing objects: 100% (17/17), done.\u001b[K\n",
            "remote: Total 137 (delta 21), reused 15 (delta 15), pack-reused 105\u001b[K\n",
            "Receiving objects: 100% (137/137), 2.01 MiB | 25.39 MiB/s, done.\n",
            "Resolving deltas: 100% (71/71), done.\n"
          ]
        }
      ],
      "source": [
        "!git clone https://github.com/minivision-ai/photo2cartoon.git\n"
      ]
    },
    {
      "cell_type": "code",
      "source": [
        "from google.colab import drive\n",
        "drive.mount('/content/gdrive')"
      ],
      "metadata": {
        "colab": {
          "base_uri": "https://localhost:8080/"
        },
        "id": "VmJJHr-hvwqr",
        "outputId": "b506aafb-7584-4a24-e84c-81302e76e8c4"
      },
      "execution_count": 3,
      "outputs": [
        {
          "output_type": "stream",
          "name": "stdout",
          "text": [
            "Mounted at /content/gdrive\n"
          ]
        }
      ]
    },
    {
      "cell_type": "code",
      "source": [
        "!cp \"/content/gdrive/MyDrive/301/project/GANproject/photo2cartoon_weights.pt\" \"/content/photo2cartoon/models\""
      ],
      "metadata": {
        "id": "9G4klglmwRpZ"
      },
      "execution_count": 5,
      "outputs": []
    },
    {
      "cell_type": "code",
      "source": [
        "!cp \"/content/gdrive/MyDrive/301/project/GANproject/seg_model_384.pb\" \"/content/photo2cartoon/utils\""
      ],
      "metadata": {
        "id": "UcTjqahkwywK"
      },
      "execution_count": 9,
      "outputs": []
    },
    {
      "cell_type": "code",
      "source": [
        "!cp \"/content/gdrive/MyDrive/301/project/GANproject/model_mobilefacenet.pth\" \"/content/photo2cartoon/models\""
      ],
      "metadata": {
        "id": "9BZBhhDPw4A6"
      },
      "execution_count": 6,
      "outputs": []
    },
    {
      "cell_type": "code",
      "source": [
        "!cp \"/content/gdrive/MyDrive/301/project/GANproject/photo2cartoon_weights.onnx\" \"/content/photo2cartoon/models\""
      ],
      "metadata": {
        "id": "QhtdHkwHxFav"
      },
      "execution_count": 7,
      "outputs": []
    },
    {
      "cell_type": "code",
      "source": [
        "!cp \"/content/gdrive/MyDrive/301/project/GANproject/seg_model_384.pb\" \"/content/photo2cartoon/utils\""
      ],
      "metadata": {
        "id": "aBh40GauxKT8"
      },
      "execution_count": 8,
      "outputs": []
    },
    {
      "cell_type": "code",
      "source": [
        "%cd /content/photo2cartoon"
      ],
      "metadata": {
        "colab": {
          "base_uri": "https://localhost:8080/"
        },
        "id": "qdG0yDEBbGcm",
        "outputId": "606b22ef-171e-4054-d576-1e64aaabe239"
      },
      "execution_count": 15,
      "outputs": [
        {
          "output_type": "stream",
          "name": "stdout",
          "text": [
            "/content/photo2cartoon\n"
          ]
        }
      ]
    },
    {
      "cell_type": "code",
      "source": [
        "import dlib"
      ],
      "metadata": {
        "id": "h3XhZYodhE-O"
      },
      "execution_count": 16,
      "outputs": []
    },
    {
      "cell_type": "code",
      "source": [
        "pip install face-alignment"
      ],
      "metadata": {
        "colab": {
          "base_uri": "https://localhost:8080/"
        },
        "id": "DrSBkb_khyJo",
        "outputId": "58a4cc22-897b-49d1-f903-5ae4b9154feb"
      },
      "execution_count": 17,
      "outputs": [
        {
          "output_type": "stream",
          "name": "stdout",
          "text": [
            "Collecting face-alignment\n",
            "  Downloading face_alignment-1.3.5.tar.gz (27 kB)\n",
            "Requirement already satisfied: torch in /usr/local/lib/python3.7/dist-packages (from face-alignment) (1.11.0+cu113)\n",
            "Requirement already satisfied: numpy in /usr/local/lib/python3.7/dist-packages (from face-alignment) (1.21.6)\n",
            "Requirement already satisfied: scipy>=0.17 in /usr/local/lib/python3.7/dist-packages (from face-alignment) (1.4.1)\n",
            "Requirement already satisfied: scikit-image in /usr/local/lib/python3.7/dist-packages (from face-alignment) (0.18.3)\n",
            "Requirement already satisfied: opencv-python in /usr/local/lib/python3.7/dist-packages (from face-alignment) (4.1.2.30)\n",
            "Requirement already satisfied: tqdm in /usr/local/lib/python3.7/dist-packages (from face-alignment) (4.64.0)\n",
            "Requirement already satisfied: numba in /usr/local/lib/python3.7/dist-packages (from face-alignment) (0.51.2)\n",
            "Requirement already satisfied: setuptools in /usr/local/lib/python3.7/dist-packages (from numba->face-alignment) (57.4.0)\n",
            "Requirement already satisfied: llvmlite<0.35,>=0.34.0.dev0 in /usr/local/lib/python3.7/dist-packages (from numba->face-alignment) (0.34.0)\n",
            "Requirement already satisfied: PyWavelets>=1.1.1 in /usr/local/lib/python3.7/dist-packages (from scikit-image->face-alignment) (1.3.0)\n",
            "Requirement already satisfied: imageio>=2.3.0 in /usr/local/lib/python3.7/dist-packages (from scikit-image->face-alignment) (2.4.1)\n",
            "Requirement already satisfied: pillow!=7.1.0,!=7.1.1,>=4.3.0 in /usr/local/lib/python3.7/dist-packages (from scikit-image->face-alignment) (7.1.2)\n",
            "Requirement already satisfied: matplotlib!=3.0.0,>=2.0.0 in /usr/local/lib/python3.7/dist-packages (from scikit-image->face-alignment) (3.2.2)\n",
            "Requirement already satisfied: networkx>=2.0 in /usr/local/lib/python3.7/dist-packages (from scikit-image->face-alignment) (2.6.3)\n",
            "Requirement already satisfied: tifffile>=2019.7.26 in /usr/local/lib/python3.7/dist-packages (from scikit-image->face-alignment) (2021.11.2)\n",
            "Requirement already satisfied: pyparsing!=2.0.4,!=2.1.2,!=2.1.6,>=2.0.1 in /usr/local/lib/python3.7/dist-packages (from matplotlib!=3.0.0,>=2.0.0->scikit-image->face-alignment) (3.0.8)\n",
            "Requirement already satisfied: python-dateutil>=2.1 in /usr/local/lib/python3.7/dist-packages (from matplotlib!=3.0.0,>=2.0.0->scikit-image->face-alignment) (2.8.2)\n",
            "Requirement already satisfied: cycler>=0.10 in /usr/local/lib/python3.7/dist-packages (from matplotlib!=3.0.0,>=2.0.0->scikit-image->face-alignment) (0.11.0)\n",
            "Requirement already satisfied: kiwisolver>=1.0.1 in /usr/local/lib/python3.7/dist-packages (from matplotlib!=3.0.0,>=2.0.0->scikit-image->face-alignment) (1.4.2)\n",
            "Requirement already satisfied: typing-extensions in /usr/local/lib/python3.7/dist-packages (from kiwisolver>=1.0.1->matplotlib!=3.0.0,>=2.0.0->scikit-image->face-alignment) (4.2.0)\n",
            "Requirement already satisfied: six>=1.5 in /usr/local/lib/python3.7/dist-packages (from python-dateutil>=2.1->matplotlib!=3.0.0,>=2.0.0->scikit-image->face-alignment) (1.15.0)\n",
            "Building wheels for collected packages: face-alignment\n",
            "  Building wheel for face-alignment (setup.py) ... \u001b[?25l\u001b[?25hdone\n",
            "  Created wheel for face-alignment: filename=face_alignment-1.3.5-py2.py3-none-any.whl size=28241 sha256=0ec0c4df831a2771823bc667c2897d3ecb1f83f0cf0efdb8b8ac5474198b8882\n",
            "  Stored in directory: /root/.cache/pip/wheels/c9/ba/4d/2d368f55e5f929f9472da59e356fbdf1483f885de80a5bc620\n",
            "Successfully built face-alignment\n",
            "Installing collected packages: face-alignment\n",
            "Successfully installed face-alignment-1.3.5\n"
          ]
        }
      ]
    },
    {
      "cell_type": "code",
      "source": [
        "import face_alignment"
      ],
      "metadata": {
        "id": "5SrC7-_whgWM"
      },
      "execution_count": 18,
      "outputs": []
    },
    {
      "cell_type": "code",
      "source": [
        "!python test.py --photo_path ./images/photo_test.jpg --save_path ./images/cartoon_result.png"
      ],
      "metadata": {
        "colab": {
          "base_uri": "https://localhost:8080/"
        },
        "id": "o9SJgj0ObNxG",
        "outputId": "64303fce-3dc3-44be-b635-4068bbfe9732"
      },
      "execution_count": null,
      "outputs": [
        {
          "output_type": "stream",
          "name": "stdout",
          "text": [
            "/usr/local/lib/python3.7/dist-packages/face_alignment/detection/dlib/dlib_detector.py:13: UserWarning: Warning: this detector is deprecated. Please use a different one, i.e.: S3FD.\n",
            "  warnings.warn('Warning: this detector is deprecated. Please use a different one, i.e.: S3FD.')\n",
            "Downloading: \"https://www.adrianbulat.com/downloads/python-fan/2DFAN4-cd938726ad.zip\" to /root/.cache/torch/hub/checkpoints/2DFAN4-cd938726ad.zip\n",
            "100% 91.9M/91.9M [00:02<00:00, 32.8MB/s]\n",
            "WARNING:tensorflow:From /content/photo2cartoon/utils/face_seg.py:26: FastGFile.__init__ (from tensorflow.python.platform.gfile) is deprecated and will be removed in a future version.\n",
            "Instructions for updating:\n",
            "Use tf.gfile.GFile.\n",
            "[Step1: load weights] success!\n",
            "[Step2: face detect] success!\n"
          ]
        }
      ]
    },
    {
      "cell_type": "code",
      "source": [
        "!pip install onnx onnxruntime netron"
      ],
      "metadata": {
        "id": "Sp-ZC8qJi5wb"
      },
      "execution_count": null,
      "outputs": []
    },
    {
      "cell_type": "code",
      "source": [
        "!python test_onnx.py --photo_path ./images/photo_test.jpg --save_path ./images/cartoon_result.png"
      ],
      "metadata": {
        "id": "V7s0Xbk6eL9h"
      },
      "execution_count": null,
      "outputs": []
    },
    {
      "cell_type": "code",
      "source": [
        "%cd '/content/photo2cartoon'\n",
        "! unzip '/content/gdrive/MyDrive/301/project/GANproject/All-Age-Faces Dataset.zip'"
      ],
      "metadata": {
        "id": "PyVxIrVCjbgx"
      },
      "execution_count": null,
      "outputs": []
    },
    {
      "cell_type": "code",
      "source": [
        ""
      ],
      "metadata": {
        "id": "LKX92mvY9j7R"
      },
      "execution_count": null,
      "outputs": []
    },
    {
      "cell_type": "code",
      "source": [
        "import random\n",
        "\n",
        "with open(\"/content/photo2cartoon/All-Age-Faces Dataset/image sets/train.txt\", \"r\") as f:\n",
        "    traindata = f.read().split('\\n')\n",
        "\n",
        "with open(\"/content/photo2cartoon/All-Age-Faces Dataset/image sets/val.txt\", \"r\") as f:\n",
        "    valdata = f.read().split('\\n')\n",
        "\n",
        "traindata_female = [line[:-2] for line in traindata if (line != '' and line[-1] == '0' and int(line[6:8]) >= 17 and int(line[6:8]) <= 30)]\n",
        "valdata_female = [line[:-2] for line in traindata if (line != '' and line[-1] == '0' and int(line[6:8]) >= 17 and int(line[6:8]) <= 30)]\n",
        "random.shuffle(traindata_female)\n",
        "random.shuffle(valdata_female)"
      ],
      "metadata": {
        "id": "qCYzaleYlPGE"
      },
      "execution_count": null,
      "outputs": []
    },
    {
      "cell_type": "code",
      "source": [
        "train_data = traindata_female[:1000]\n",
        "test_data = traindata_female[1000:1200]"
      ],
      "metadata": {
        "id": "p5-PHKvvnL5M"
      },
      "execution_count": null,
      "outputs": []
    },
    {
      "cell_type": "code",
      "source": [
        "! mkdir /content/photo2cartoon/trainA"
      ],
      "metadata": {
        "id": "QqjYSqL3oA1-"
      },
      "execution_count": null,
      "outputs": []
    },
    {
      "cell_type": "code",
      "source": [
        "! rm -r  /content/photo2cartoon/testA"
      ],
      "metadata": {
        "id": "uK12wo2roreE"
      },
      "execution_count": null,
      "outputs": []
    },
    {
      "cell_type": "code",
      "source": [
        "! mkdir /content/photo2cartoon/testA"
      ],
      "metadata": {
        "id": "gv9HOBcLoj7u"
      },
      "execution_count": null,
      "outputs": []
    },
    {
      "cell_type": "code",
      "source": [
        "! mkdir /content/photo2cartoon/trainB\n",
        "! mkdir /content/photo2cartoon/testB"
      ],
      "metadata": {
        "id": "mBkgvX7B33zF"
      },
      "execution_count": null,
      "outputs": []
    },
    {
      "cell_type": "markdown",
      "source": [
        "### upload the trainA and testA folder"
      ],
      "metadata": {
        "id": "4vPfSC6w5Hw6"
      }
    },
    {
      "cell_type": "code",
      "source": [
        "import shutil"
      ],
      "metadata": {
        "id": "bUib_0XNylrD"
      },
      "execution_count": null,
      "outputs": []
    },
    {
      "cell_type": "code",
      "source": [
        "counter = 0\n",
        "for img in train_data:\n",
        "    path = \"/content/photo2cartoon/All-Age-Faces Dataset/aglined faces/\"+ img\n",
        "    shutil.move(path, '/content/photo2cartoon/trainA') \n"
      ],
      "metadata": {
        "id": "oKfsBwewpndO"
      },
      "execution_count": null,
      "outputs": []
    },
    {
      "cell_type": "code",
      "source": [
        "counter = 0\n",
        "for img in train_data:\n",
        "  try:\n",
        "    path = \"/content/photo2cartoon/All-Age-Faces\\ Dataset/aglined\\ faces/\"+ img\n",
        "    shutil.move(path, '/content/photo2cartoon/trainA') \n",
        "  except:\n",
        "    counter+=1\n",
        "    pass\n",
        "print(counter)"
      ],
      "metadata": {
        "id": "WVgs4iaZnNvJ"
      },
      "execution_count": null,
      "outputs": []
    },
    {
      "cell_type": "code",
      "source": [
        "import shutil\n",
        "counter = 0\n",
        "for img in test_data:\n",
        "  try:\n",
        "    path = \"/content/photo2cartoon/All-Age-Faces Dataset/aglined faces/\"+img\n",
        "    shutil.move(path, '/content/photo2cartoon/testA') \n",
        "  except:\n",
        "    counter+=1\n",
        "    pass\n",
        "print(counter)"
      ],
      "metadata": {
        "id": "K75_VqvmnQTo"
      },
      "execution_count": null,
      "outputs": []
    },
    {
      "cell_type": "code",
      "source": [
        "%cd '/content/photo2cartoon'\n",
        "! unzip '/content/gdrive/MyDrive/301/project/GANproject/cartoon_data.zip'"
      ],
      "metadata": {
        "id": "Ziyz824Jp_xA"
      },
      "execution_count": null,
      "outputs": []
    },
    {
      "cell_type": "markdown",
      "source": [
        "### upload the trainB and testB folder\n"
      ],
      "metadata": {
        "id": "osOT--SF5APt"
      }
    },
    {
      "cell_type": "code",
      "source": [
        "! mv /content/photo2cartoon/cartoon_data/trainB /content/photo2cartoon/\n",
        "! mv /content/photo2cartoon/cartoon_data/testB /content/photo2cartoon/"
      ],
      "metadata": {
        "id": "AbPgvIPC4YdD"
      },
      "execution_count": null,
      "outputs": []
    },
    {
      "cell_type": "code",
      "source": [
        "! mkdir /content/photo2cartoon/dataset/photo2cartoon"
      ],
      "metadata": {
        "id": "mmd64nZm6iAE"
      },
      "execution_count": null,
      "outputs": []
    },
    {
      "cell_type": "code",
      "source": [
        "! cp -r /content/photo2cartoon/trainA /content/photo2cartoon/dataset/photo2cartoon/\n",
        "! cp -r /content/photo2cartoon/trainB /content/photo2cartoon/dataset/photo2cartoon/\n",
        "! cp -r /content/photo2cartoon/testA /content/photo2cartoon/dataset/photo2cartoon/\n",
        "! cp -r /content/photo2cartoon/testB /content/photo2cartoon/dataset/photo2cartoon/"
      ],
      "metadata": {
        "id": "Wyn0coAQ6zuL"
      },
      "execution_count": null,
      "outputs": []
    },
    {
      "cell_type": "code",
      "source": [
        "! python train.py --resume --dataset photo2cartoon"
      ],
      "metadata": {
        "id": "6XnmRwcy4R6V"
      },
      "execution_count": null,
      "outputs": []
    },
    {
      "cell_type": "code",
      "source": [
        "\n"
      ],
      "metadata": {
        "id": "tTY6GeqV5vQH"
      },
      "execution_count": 30,
      "outputs": []
    },
    {
      "cell_type": "code",
      "source": [
        "! python test.py --photo_path /content/photo2cartoon/testA/01001A17.jpg --save_path ./images/01001A17.png"
      ],
      "metadata": {
        "colab": {
          "base_uri": "https://localhost:8080/"
        },
        "id": "LcEfNuBK6Lso",
        "outputId": "30a3dbc1-5a11-480a-a265-593043babf17"
      },
      "execution_count": 34,
      "outputs": [
        {
          "output_type": "stream",
          "name": "stdout",
          "text": [
            "/usr/local/lib/python3.7/dist-packages/face_alignment/detection/dlib/dlib_detector.py:13: UserWarning: Warning: this detector is deprecated. Please use a different one, i.e.: S3FD.\n",
            "  warnings.warn('Warning: this detector is deprecated. Please use a different one, i.e.: S3FD.')\n",
            "WARNING:tensorflow:From /content/photo2cartoon/utils/face_seg.py:26: FastGFile.__init__ (from tensorflow.python.platform.gfile) is deprecated and will be removed in a future version.\n",
            "Instructions for updating:\n",
            "Use tf.gfile.GFile.\n",
            "[Step1: load weights] success!\n",
            "[Step2: face detect] success!\n",
            "/usr/local/lib/python3.7/dist-packages/torch/nn/functional.py:3704: UserWarning: nn.functional.upsample is deprecated. Use nn.functional.interpolate instead.\n",
            "  warnings.warn(\"nn.functional.upsample is deprecated. Use nn.functional.interpolate instead.\")\n",
            "[Step3: photo to cartoon] success!\n",
            "Cartoon portrait has been saved successfully!\n"
          ]
        }
      ]
    },
    {
      "cell_type": "code",
      "source": [
        "%cd '/content/photo2cartoon'\n",
        "! unzip '/content/gdrive/MyDrive/301/project/GANproject/TheCartoonDatasetIUsedForTheBlendingExperiment.zip'"
      ],
      "metadata": {
        "colab": {
          "base_uri": "https://localhost:8080/"
        },
        "id": "N7rFp2YpliLp",
        "outputId": "abd9abc2-7b10-4fad-a77b-e3fe99165569"
      },
      "execution_count": 4,
      "outputs": [
        {
          "output_type": "stream",
          "name": "stdout",
          "text": [
            "/content/photo2cartoon\n",
            "Archive:  /content/gdrive/MyDrive/301/project/GANproject/TheCartoonDatasetIUsedForTheBlendingExperiment.zip\n",
            "   creating: cartoon/\n",
            "  inflating: __MACOSX/._cartoon      \n",
            "  inflating: cartoon/Cartoons_00050_03.jpg  \n",
            "  inflating: __MACOSX/cartoon/._Cartoons_00050_03.jpg  \n",
            "  inflating: cartoon/Cartoons_00189_04.jpg  \n",
            "  inflating: __MACOSX/cartoon/._Cartoons_00189_04.jpg  \n",
            "  inflating: cartoon/Cartoons_00087_01.jpg  \n",
            "  inflating: __MACOSX/cartoon/._Cartoons_00087_01.jpg  \n",
            "  inflating: cartoon/Cartoons_00187_01.jpg  \n",
            "  inflating: __MACOSX/cartoon/._Cartoons_00187_01.jpg  \n",
            "  inflating: cartoon/Cartoons_00330_01.jpg  \n",
            "  inflating: __MACOSX/cartoon/._Cartoons_00330_01.jpg  \n",
            "  inflating: cartoon/Cartoons_00353_01.jpg  \n",
            "  inflating: __MACOSX/cartoon/._Cartoons_00353_01.jpg  \n",
            "  inflating: cartoon/Cartoons_00402_01.jpg  \n",
            "  inflating: __MACOSX/cartoon/._Cartoons_00402_01.jpg  \n",
            "  inflating: cartoon/Cartoons_00384_03.jpg  \n",
            "  inflating: __MACOSX/cartoon/._Cartoons_00384_03.jpg  \n",
            "  inflating: cartoon/Cartoons_00015_07.jpg  \n",
            "  inflating: __MACOSX/cartoon/._Cartoons_00015_07.jpg  \n",
            "  inflating: cartoon/Cartoons_00320_04.jpg  \n",
            "  inflating: __MACOSX/cartoon/._Cartoons_00320_04.jpg  \n",
            "  inflating: cartoon/Cartoons_00573_01.jpg  \n",
            "  inflating: __MACOSX/cartoon/._Cartoons_00573_01.jpg  \n",
            "  inflating: cartoon/Cartoons_00222_01.jpg  \n",
            "  inflating: __MACOSX/cartoon/._Cartoons_00222_01.jpg  \n",
            "  inflating: cartoon/Cartoons_00341_01.jpg  \n",
            "  inflating: __MACOSX/cartoon/._Cartoons_00341_01.jpg  \n",
            "  inflating: cartoon/Cartoons_00021_02.jpg  \n",
            "  inflating: __MACOSX/cartoon/._Cartoons_00021_02.jpg  \n",
            "  inflating: cartoon/Cartoons_00426_01.jpg  \n",
            "  inflating: __MACOSX/cartoon/._Cartoons_00426_01.jpg  \n",
            "  inflating: cartoon/Cartoons_00351_05.jpg  \n",
            "  inflating: __MACOSX/cartoon/._Cartoons_00351_05.jpg  \n",
            "  inflating: cartoon/Cartoons_00015_06.jpg  \n",
            "  inflating: __MACOSX/cartoon/._Cartoons_00015_06.jpg  \n",
            "  inflating: cartoon/Cartoons_00384_02.jpg  \n",
            "  inflating: __MACOSX/cartoon/._Cartoons_00384_02.jpg  \n",
            "  inflating: cartoon/Cartoons_00033_02.jpg  \n",
            "  inflating: __MACOSX/cartoon/._Cartoons_00033_02.jpg  \n",
            "  inflating: cartoon/Cartoons_00265_01.jpg  \n",
            "  inflating: __MACOSX/cartoon/._Cartoons_00265_01.jpg  \n",
            "  inflating: cartoon/Cartoons_00050_02.jpg  \n",
            "  inflating: __MACOSX/cartoon/._Cartoons_00050_02.jpg  \n",
            "  inflating: cartoon/Cartoons_00449_01.jpg  \n",
            "  inflating: __MACOSX/cartoon/._Cartoons_00449_01.jpg  \n",
            "  inflating: cartoon/Cartoons_00318_01.jpg  \n",
            "  inflating: __MACOSX/cartoon/._Cartoons_00318_01.jpg  \n",
            "  inflating: cartoon/Cartoons_00318_03.jpg  \n",
            "  inflating: __MACOSX/cartoon/._Cartoons_00318_03.jpg  \n",
            "  inflating: cartoon/Cartoons_00330_02.jpg  \n",
            "  inflating: __MACOSX/cartoon/._Cartoons_00330_02.jpg  \n",
            "  inflating: cartoon/Cartoons_00187_02.jpg  \n",
            "  inflating: __MACOSX/cartoon/._Cartoons_00187_02.jpg  \n",
            "  inflating: cartoon/Cartoons_00166_01.jpg  \n",
            "  inflating: __MACOSX/cartoon/._Cartoons_00166_01.jpg  \n",
            "  inflating: cartoon/Cartoons_00199_02.jpg  \n",
            "  inflating: __MACOSX/cartoon/._Cartoons_00199_02.jpg  \n",
            "  inflating: cartoon/Cartoons_00015_04.jpg  \n",
            "  inflating: __MACOSX/cartoon/._Cartoons_00015_04.jpg  \n",
            "  inflating: cartoon/Cartoons_00174_01.jpg  \n",
            "  inflating: __MACOSX/cartoon/._Cartoons_00174_01.jpg  \n",
            "  inflating: cartoon/Cartoons_00021_01.jpg  \n",
            "  inflating: __MACOSX/cartoon/._Cartoons_00021_01.jpg  \n",
            "  inflating: cartoon/Cartoons_00015_05.jpg  \n",
            "  inflating: __MACOSX/cartoon/._Cartoons_00015_05.jpg  \n",
            "  inflating: cartoon/Cartoons_00033_01.jpg  \n",
            "  inflating: __MACOSX/cartoon/._Cartoons_00033_01.jpg  \n",
            "  inflating: cartoon/Cartoons_00384_01.jpg  \n",
            "  inflating: __MACOSX/cartoon/._Cartoons_00384_01.jpg  \n",
            "  inflating: cartoon/Cartoons_00050_01.jpg  \n",
            "  inflating: __MACOSX/cartoon/._Cartoons_00050_01.jpg  \n",
            "  inflating: cartoon/Cartoons_00150_01.jpg  \n",
            "  inflating: __MACOSX/cartoon/._Cartoons_00150_01.jpg  \n",
            "  inflating: cartoon/Cartoons_00449_02.jpg  \n",
            "  inflating: __MACOSX/cartoon/._Cartoons_00449_02.jpg  \n",
            "  inflating: cartoon/Cartoons_00318_02.jpg  \n",
            "  inflating: __MACOSX/cartoon/._Cartoons_00318_02.jpg  \n",
            "  inflating: cartoon/Cartoons_00316_03.jpg  \n",
            "  inflating: __MACOSX/cartoon/._Cartoons_00316_03.jpg  \n",
            "  inflating: cartoon/Cartoons_00176_01.jpg  \n",
            "  inflating: __MACOSX/cartoon/._Cartoons_00176_01.jpg  \n",
            "  inflating: cartoon/Cartoons_00343_02.jpg  \n",
            "  inflating: __MACOSX/cartoon/._Cartoons_00343_02.jpg  \n",
            "  inflating: cartoon/Cartoons_00076_01.jpg  \n",
            "  inflating: __MACOSX/cartoon/._Cartoons_00076_01.jpg  \n",
            "  inflating: cartoon/Cartoons_00050_05.jpg  \n",
            "  inflating: __MACOSX/cartoon/._Cartoons_00050_05.jpg  \n",
            "  inflating: cartoon/Cartoons_00189_02.jpg  \n",
            "  inflating: __MACOSX/cartoon/._Cartoons_00189_02.jpg  \n",
            "  inflating: cartoon/Cartoons_00015_01.jpg  \n",
            "  inflating: __MACOSX/cartoon/._Cartoons_00015_01.jpg  \n",
            "  inflating: cartoon/Cartoons_00320_02.jpg  \n",
            "  inflating: __MACOSX/cartoon/._Cartoons_00320_02.jpg  \n",
            "  inflating: cartoon/Cartoons_00351_02.jpg  \n",
            "  inflating: __MACOSX/cartoon/._Cartoons_00351_02.jpg  \n",
            "  inflating: cartoon/.DS_Store       \n",
            "  inflating: __MACOSX/cartoon/._.DS_Store  \n",
            "  inflating: cartoon/Cartoons_00332_02.jpg  \n",
            "  inflating: __MACOSX/cartoon/._Cartoons_00332_02.jpg  \n",
            "  inflating: cartoon/Cartoons_00185_02.jpg  \n",
            "  inflating: __MACOSX/cartoon/._Cartoons_00185_02.jpg  \n",
            "  inflating: cartoon/Cartoons_00007_01.jpg  \n",
            "  inflating: __MACOSX/cartoon/._Cartoons_00007_01.jpg  \n",
            "  inflating: cartoon/Cartoons_00052_01.jpg  \n",
            "  inflating: __MACOSX/cartoon/._Cartoons_00052_01.jpg  \n",
            "  inflating: cartoon/Cartoons_00351_03.jpg  \n",
            "  inflating: __MACOSX/cartoon/._Cartoons_00351_03.jpg  \n",
            "  inflating: cartoon/Cartoons_00031_01.jpg  \n",
            "  inflating: __MACOSX/cartoon/._Cartoons_00031_01.jpg  \n",
            "  inflating: cartoon/Cartoons_00131_01.jpg  \n",
            "  inflating: __MACOSX/cartoon/._Cartoons_00131_01.jpg  \n",
            "  inflating: cartoon/Cartoons_00040_01.jpg  \n",
            "  inflating: __MACOSX/cartoon/._Cartoons_00040_01.jpg  \n",
            "  inflating: cartoon/Cartoons_00050_04.jpg  \n",
            "  inflating: __MACOSX/cartoon/._Cartoons_00050_04.jpg  \n",
            "  inflating: cartoon/Cartoons_00189_03.jpg  \n",
            "  inflating: __MACOSX/cartoon/._Cartoons_00189_03.jpg  \n",
            "  inflating: cartoon/Cartoons_00050_10.jpg  \n",
            "  inflating: __MACOSX/cartoon/._Cartoons_00050_10.jpg  \n",
            "  inflating: cartoon/Cartoons_00316_02.jpg  \n",
            "  inflating: __MACOSX/cartoon/._Cartoons_00316_02.jpg  \n",
            "  inflating: cartoon/Cartoons_00343_01.jpg  \n",
            "  inflating: __MACOSX/cartoon/._Cartoons_00343_01.jpg  \n",
            "  inflating: cartoon/Cartoons_00189_01.jpg  \n",
            "  inflating: __MACOSX/cartoon/._Cartoons_00189_01.jpg  \n",
            "  inflating: cartoon/Cartoons_00050_06.jpg  \n",
            "  inflating: __MACOSX/cartoon/._Cartoons_00050_06.jpg  \n",
            "  inflating: cartoon/Cartoons_00050_12.jpg  \n",
            "  inflating: __MACOSX/cartoon/._Cartoons_00050_12.jpg  \n",
            "  inflating: cartoon/Cartoons_00089_01.jpg  \n",
            "  inflating: __MACOSX/cartoon/._Cartoons_00089_01.jpg  \n",
            "  inflating: cartoon/Cartoons_00320_01.jpg  \n",
            "  inflating: __MACOSX/cartoon/._Cartoons_00320_01.jpg  \n",
            "  inflating: cartoon/Cartoons_00015_02.jpg  \n",
            "  inflating: __MACOSX/cartoon/._Cartoons_00015_02.jpg  \n",
            "  inflating: cartoon/Cartoons_00251_01.jpg  \n",
            "  inflating: __MACOSX/cartoon/._Cartoons_00251_01.jpg  \n",
            "  inflating: cartoon/Cartoons_00351_01.jpg  \n",
            "  inflating: __MACOSX/cartoon/._Cartoons_00351_01.jpg  \n",
            "  inflating: cartoon/Cartoons_00400_01.jpg  \n",
            "  inflating: __MACOSX/cartoon/._Cartoons_00400_01.jpg  \n",
            "  inflating: cartoon/Cartoons_00232_01.jpg  \n",
            "  inflating: __MACOSX/cartoon/._Cartoons_00232_01.jpg  \n",
            "  inflating: cartoon/Cartoons_00185_01.jpg  \n",
            "  inflating: __MACOSX/cartoon/._Cartoons_00185_01.jpg  \n",
            "  inflating: cartoon/Cartoons_00332_01.jpg  \n",
            "  inflating: __MACOSX/cartoon/._Cartoons_00332_01.jpg  \n",
            "  inflating: cartoon/Cartoons_00052_03.jpg  \n",
            "  inflating: __MACOSX/cartoon/._Cartoons_00052_03.jpg  \n",
            "  inflating: cartoon/Cartoons_00267_01.jpg  \n",
            "  inflating: __MACOSX/cartoon/._Cartoons_00267_01.jpg  \n",
            "  inflating: cartoon/Cartoons_00052_02.jpg  \n",
            "  inflating: __MACOSX/cartoon/._Cartoons_00052_02.jpg  \n",
            "  inflating: cartoon/Cartoons_00095_05.jpg  \n",
            "  inflating: __MACOSX/cartoon/._Cartoons_00095_05.jpg  \n",
            "  inflating: cartoon/Cartoons_00131_02.jpg  \n",
            "  inflating: __MACOSX/cartoon/._Cartoons_00131_02.jpg  \n",
            "  inflating: cartoon/Cartoons_00424_01.jpg  \n",
            "  inflating: __MACOSX/cartoon/._Cartoons_00424_01.jpg  \n",
            "  inflating: cartoon/Cartoons_00040_02.jpg  \n",
            "  inflating: __MACOSX/cartoon/._Cartoons_00040_02.jpg  \n",
            "  inflating: cartoon/Cartoons_00015_03.jpg  \n",
            "  inflating: __MACOSX/cartoon/._Cartoons_00015_03.jpg  \n",
            "  inflating: cartoon/Cartoons_00050_13.jpg  \n",
            "  inflating: __MACOSX/cartoon/._Cartoons_00050_13.jpg  \n",
            "  inflating: cartoon/Cartoons_00050_07.jpg  \n",
            "  inflating: __MACOSX/cartoon/._Cartoons_00050_07.jpg  \n",
            "  inflating: cartoon/Cartoons_00316_01.jpg  \n",
            "  inflating: __MACOSX/cartoon/._Cartoons_00316_01.jpg  \n",
            "  inflating: cartoon/Cartoons_00062_05.jpg  \n",
            "  inflating: __MACOSX/cartoon/._Cartoons_00062_05.jpg  \n",
            "  inflating: cartoon/Cartoons_00144_01.jpg  \n",
            "  inflating: __MACOSX/cartoon/._Cartoons_00144_01.jpg  \n",
            "  inflating: cartoon/Cartoons_00044_01.jpg  \n",
            "  inflating: __MACOSX/cartoon/._Cartoons_00044_01.jpg  \n",
            "  inflating: cartoon/Cartoons_00543_02.jpg  \n",
            "  inflating: __MACOSX/cartoon/._Cartoons_00543_02.jpg  \n",
            "  inflating: cartoon/Cartoons_00290_01.jpg  \n",
            "  inflating: __MACOSX/cartoon/._Cartoons_00290_01.jpg  \n",
            "  inflating: cartoon/Cartoons_00312_02.jpg  \n",
            "  inflating: __MACOSX/cartoon/._Cartoons_00312_02.jpg  \n",
            "  inflating: cartoon/Cartoons_00170_05.jpg  \n",
            "  inflating: __MACOSX/cartoon/._Cartoons_00170_05.jpg  \n",
            "  inflating: cartoon/Cartoons_00158_04.jpg  \n",
            "  inflating: __MACOSX/cartoon/._Cartoons_00158_04.jpg  \n",
            "  inflating: cartoon/Cartoons_00282_01.jpg  \n",
            "  inflating: __MACOSX/cartoon/._Cartoons_00282_01.jpg  \n",
            "  inflating: cartoon/Cartoons_00382_01.jpg  \n",
            "  inflating: __MACOSX/cartoon/._Cartoons_00382_01.jpg  \n",
            "  inflating: cartoon/Cartoons_00048_01.jpg  \n",
            "  inflating: __MACOSX/cartoon/._Cartoons_00048_01.jpg  \n",
            "  inflating: cartoon/Cartoons_00148_01.jpg  \n",
            "  inflating: __MACOSX/cartoon/._Cartoons_00148_01.jpg  \n",
            "  inflating: cartoon/Cartoons_00228_02.jpg  \n",
            "  inflating: __MACOSX/cartoon/._Cartoons_00228_02.jpg  \n",
            "  inflating: cartoon/Cartoons_00486_01.jpg  \n",
            "  inflating: __MACOSX/cartoon/._Cartoons_00486_01.jpg  \n",
            "  inflating: cartoon/Cartoons_00003_01.jpg  \n",
            "  inflating: __MACOSX/cartoon/._Cartoons_00003_01.jpg  \n",
            "  inflating: cartoon/Cartoons_00158_05.jpg  \n",
            "  inflating: __MACOSX/cartoon/._Cartoons_00158_05.jpg  \n",
            "  inflating: cartoon/Cartoons_00170_04.jpg  \n",
            "  inflating: __MACOSX/cartoon/._Cartoons_00170_04.jpg  \n",
            "  inflating: cartoon/Cartoons_00312_03.jpg  \n",
            "  inflating: __MACOSX/cartoon/._Cartoons_00312_03.jpg  \n",
            "  inflating: cartoon/Cartoons_00494_01.jpg  \n",
            "  inflating: __MACOSX/cartoon/._Cartoons_00494_01.jpg  \n",
            "  inflating: cartoon/Cartoons_00172_01.jpg  \n",
            "  inflating: __MACOSX/cartoon/._Cartoons_00172_01.jpg  \n",
            "  inflating: cartoon/Cartoons_00011_01.jpg  \n",
            "  inflating: __MACOSX/cartoon/._Cartoons_00011_01.jpg  \n",
            "  inflating: cartoon/Cartoons_00475_02.jpg  \n",
            "  inflating: __MACOSX/cartoon/._Cartoons_00475_02.jpg  \n",
            "  inflating: cartoon/Cartoons_00543_01.jpg  \n",
            "  inflating: __MACOSX/cartoon/._Cartoons_00543_01.jpg  \n",
            "  inflating: cartoon/Cartoons_00170_06.jpg  \n",
            "  inflating: __MACOSX/cartoon/._Cartoons_00170_06.jpg  \n",
            "  inflating: cartoon/Cartoons_00200_01.jpg  \n",
            "  inflating: __MACOSX/cartoon/._Cartoons_00200_01.jpg  \n",
            "  inflating: cartoon/Cartoons_00048_02.jpg  \n",
            "  inflating: __MACOSX/cartoon/._Cartoons_00048_02.jpg  \n",
            "  inflating: cartoon/Cartoons_00486_02.jpg  \n",
            "  inflating: __MACOSX/cartoon/._Cartoons_00486_02.jpg  \n",
            "  inflating: cartoon/Cartoons_00255_01.jpg  \n",
            "  inflating: __MACOSX/cartoon/._Cartoons_00255_01.jpg  \n",
            "  inflating: cartoon/Cartoons_00404_01.jpg  \n",
            "  inflating: __MACOSX/cartoon/._Cartoons_00404_01.jpg  \n",
            "  inflating: cartoon/Cartoons_00355_01.jpg  \n",
            "  inflating: __MACOSX/cartoon/._Cartoons_00355_01.jpg  \n",
            "  inflating: cartoon/Cartoons_00081_01.jpg  \n",
            "  inflating: __MACOSX/cartoon/._Cartoons_00081_01.jpg  \n",
            "  inflating: cartoon/Cartoons_00181_01.jpg  \n",
            "  inflating: __MACOSX/cartoon/._Cartoons_00181_01.jpg  \n",
            "  inflating: cartoon/Cartoons_00347_01.jpg  \n",
            "  inflating: __MACOSX/cartoon/._Cartoons_00347_01.jpg  \n",
            "  inflating: cartoon/Cartoons_00475_01.jpg  \n",
            "  inflating: __MACOSX/cartoon/._Cartoons_00475_01.jpg  \n",
            "  inflating: cartoon/Cartoons_00193_01.jpg  \n",
            "  inflating: __MACOSX/cartoon/._Cartoons_00193_01.jpg  \n",
            "  inflating: cartoon/Cartoons_00224_01.jpg  \n",
            "  inflating: __MACOSX/cartoon/._Cartoons_00224_01.jpg  \n",
            "  inflating: cartoon/Cartoons_00575_01.jpg  \n",
            "  inflating: __MACOSX/cartoon/._Cartoons_00575_01.jpg  \n",
            "  inflating: cartoon/Cartoons_00359_01.jpg  \n",
            "  inflating: __MACOSX/cartoon/._Cartoons_00359_01.jpg  \n",
            "  inflating: cartoon/Cartoons_00553_01.jpg  \n",
            "  inflating: __MACOSX/cartoon/._Cartoons_00553_01.jpg  \n",
            "  inflating: cartoon/Cartoons_00054_02.jpg  \n",
            "  inflating: __MACOSX/cartoon/._Cartoons_00054_02.jpg  \n",
            "  inflating: cartoon/Cartoons_00310_01.jpg  \n",
            "  inflating: __MACOSX/cartoon/._Cartoons_00310_01.jpg  \n",
            "  inflating: cartoon/Cartoons_00170_03.jpg  \n",
            "  inflating: __MACOSX/cartoon/._Cartoons_00170_03.jpg  \n",
            "  inflating: cartoon/Cartoons_00158_02.jpg  \n",
            "  inflating: __MACOSX/cartoon/._Cartoons_00158_02.jpg  \n",
            "  inflating: cartoon/Cartoons_00273_01.jpg  \n",
            "  inflating: __MACOSX/cartoon/._Cartoons_00273_01.jpg  \n",
            "  inflating: cartoon/Cartoons_00326_01.jpg  \n",
            "  inflating: __MACOSX/cartoon/._Cartoons_00326_01.jpg  \n",
            "  inflating: cartoon/Cartoons_00013_02.jpg  \n",
            "  inflating: __MACOSX/cartoon/._Cartoons_00013_02.jpg  \n",
            "  inflating: cartoon/Cartoons_00226_01.jpg  \n",
            "  inflating: __MACOSX/cartoon/._Cartoons_00226_01.jpg  \n",
            "  inflating: cartoon/Cartoons_00569_01.jpg  \n",
            "  inflating: __MACOSX/cartoon/._Cartoons_00569_01.jpg  \n",
            "  inflating: cartoon/Cartoons_00158_03.jpg  \n",
            "  inflating: __MACOSX/cartoon/._Cartoons_00158_03.jpg  \n",
            "  inflating: cartoon/Cartoons_00170_02.jpg  \n",
            "  inflating: __MACOSX/cartoon/._Cartoons_00170_02.jpg  \n",
            "  inflating: cartoon/Cartoons_00245_01.jpg  \n",
            "  inflating: __MACOSX/cartoon/._Cartoons_00245_01.jpg  \n",
            "  inflating: cartoon/Cartoons_00083_01.jpg  \n",
            "  inflating: __MACOSX/cartoon/._Cartoons_00083_01.jpg  \n",
            "  inflating: cartoon/Cartoons_00183_01.jpg  \n",
            "  inflating: __MACOSX/cartoon/._Cartoons_00183_01.jpg  \n",
            "  inflating: cartoon/Cartoons_00249_01.jpg  \n",
            "  inflating: __MACOSX/cartoon/._Cartoons_00249_01.jpg  \n",
            "  inflating: cartoon/Cartoons_00349_01.jpg  \n",
            "  inflating: __MACOSX/cartoon/._Cartoons_00349_01.jpg  \n",
            "  inflating: cartoon/Cartoons_00506_01.jpg  \n",
            "  inflating: __MACOSX/cartoon/._Cartoons_00506_01.jpg  \n",
            "  inflating: cartoon/Cartoons_00406_01.jpg  \n",
            "  inflating: __MACOSX/cartoon/._Cartoons_00406_01.jpg  \n",
            "  inflating: cartoon/Cartoons_00357_01.jpg  \n",
            "  inflating: __MACOSX/cartoon/._Cartoons_00357_01.jpg  \n",
            "  inflating: cartoon/Cartoons_00137_01.jpg  \n",
            "  inflating: __MACOSX/cartoon/._Cartoons_00137_01.jpg  \n",
            "  inflating: cartoon/Cartoons_00553_02.jpg  \n",
            "  inflating: __MACOSX/cartoon/._Cartoons_00553_02.jpg  \n",
            "  inflating: cartoon/Cartoons_00029_01.jpg  \n",
            "  inflating: __MACOSX/cartoon/._Cartoons_00029_01.jpg  \n",
            "  inflating: cartoon/Cartoons_00054_01.jpg  \n",
            "  inflating: __MACOSX/cartoon/._Cartoons_00054_01.jpg  \n",
            "  inflating: cartoon/Cartoons_00154_01.jpg  \n",
            "  inflating: __MACOSX/cartoon/._Cartoons_00154_01.jpg  \n",
            "  inflating: cartoon/Cartoons_00025_01.jpg  \n",
            "  inflating: __MACOSX/cartoon/._Cartoons_00025_01.jpg  \n",
            "  inflating: cartoon/Cartoons_00158_01.jpg  \n",
            "  inflating: __MACOSX/cartoon/._Cartoons_00158_01.jpg  \n",
            "  inflating: cartoon/Cartoons_00058_01.jpg  \n",
            "  inflating: __MACOSX/cartoon/._Cartoons_00058_01.jpg  \n",
            "  inflating: cartoon/Cartoons_00226_03.jpg  \n",
            "  inflating: __MACOSX/cartoon/._Cartoons_00226_03.jpg  \n",
            "  inflating: cartoon/Cartoons_00226_02.jpg  \n",
            "  inflating: __MACOSX/cartoon/._Cartoons_00226_02.jpg  \n",
            "  inflating: cartoon/Cartoons_00013_01.jpg  \n",
            "  inflating: __MACOSX/cartoon/._Cartoons_00013_01.jpg  \n",
            "  inflating: cartoon/Cartoons_00170_01.jpg  \n",
            "  inflating: __MACOSX/cartoon/._Cartoons_00170_01.jpg  \n",
            "  inflating: cartoon/Cartoons_00183_02.jpg  \n",
            "  inflating: __MACOSX/cartoon/._Cartoons_00183_02.jpg  \n",
            "  inflating: cartoon/Cartoons_00043_01.jpg  \n",
            "  inflating: __MACOSX/cartoon/._Cartoons_00043_01.jpg  \n",
            "  inflating: cartoon/Cartoons_00444_02.jpg  \n",
            "  inflating: __MACOSX/cartoon/._Cartoons_00444_02.jpg  \n",
            "  inflating: cartoon/Cartoons_00153_04.jpg  \n",
            "  inflating: __MACOSX/cartoon/._Cartoons_00153_04.jpg  \n",
            "  inflating: cartoon/Cartoons_00186_03.jpg  \n",
            "  inflating: __MACOSX/cartoon/._Cartoons_00186_03.jpg  \n",
            "  inflating: cartoon/Cartoons_00556_02.jpg  \n",
            "  inflating: __MACOSX/cartoon/._Cartoons_00556_02.jpg  \n",
            "  inflating: cartoon/Cartoons_00198_03.jpg  \n",
            "  inflating: __MACOSX/cartoon/._Cartoons_00198_03.jpg  \n",
            "  inflating: cartoon/Cartoons_00198_02.jpg  \n",
            "  inflating: __MACOSX/cartoon/._Cartoons_00198_02.jpg  \n",
            "  inflating: cartoon/Cartoons_00167_01.jpg  \n",
            "  inflating: __MACOSX/cartoon/._Cartoons_00167_01.jpg  \n",
            "  inflating: cartoon/Cartoons_00186_02.jpg  \n",
            "  inflating: __MACOSX/cartoon/._Cartoons_00186_02.jpg  \n",
            "  inflating: cartoon/Cartoons_00004_01.jpg  \n",
            "  inflating: __MACOSX/cartoon/._Cartoons_00004_01.jpg  \n",
            "  inflating: cartoon/Cartoons_00179_01.jpg  \n",
            "  inflating: __MACOSX/cartoon/._Cartoons_00179_01.jpg  \n",
            "  inflating: cartoon/Cartoons_00079_01.jpg  \n",
            "  inflating: __MACOSX/cartoon/._Cartoons_00079_01.jpg  \n",
            "  inflating: cartoon/Cartoons_00153_05.jpg  \n",
            "  inflating: __MACOSX/cartoon/._Cartoons_00153_05.jpg  \n",
            "  inflating: cartoon/Cartoons_00511_02.jpg  \n",
            "  inflating: __MACOSX/cartoon/._Cartoons_00511_02.jpg  \n",
            "  inflating: cartoon/Cartoons_00472_02.jpg  \n",
            "  inflating: __MACOSX/cartoon/._Cartoons_00472_02.jpg  \n",
            "  inflating: cartoon/Cartoons_00544_01.jpg  \n",
            "  inflating: __MACOSX/cartoon/._Cartoons_00544_01.jpg  \n",
            "  inflating: cartoon/Cartoons_00444_01.jpg  \n",
            "  inflating: __MACOSX/cartoon/._Cartoons_00444_01.jpg  \n",
            "  inflating: cartoon/Cartoons_00268_01.jpg  \n",
            "  inflating: __MACOSX/cartoon/._Cartoons_00268_01.jpg  \n",
            "  inflating: cartoon/Cartoons_00539_01.jpg  \n",
            "  inflating: __MACOSX/cartoon/._Cartoons_00539_01.jpg  \n",
            "  inflating: cartoon/Cartoons_00439_01.jpg  \n",
            "  inflating: __MACOSX/cartoon/._Cartoons_00439_01.jpg  \n",
            "  inflating: cartoon/Cartoons_00079_03.jpg  \n",
            "  inflating: __MACOSX/cartoon/._Cartoons_00079_03.jpg  \n",
            "  inflating: cartoon/Cartoons_00448_01.jpg  \n",
            "  inflating: __MACOSX/cartoon/._Cartoons_00448_01.jpg  \n",
            "  inflating: cartoon/Cartoons_00219_01.jpg  \n",
            "  inflating: __MACOSX/cartoon/._Cartoons_00219_01.jpg  \n",
            "  inflating: cartoon/Cartoons_00556_01.jpg  \n",
            "  inflating: __MACOSX/cartoon/._Cartoons_00556_01.jpg  \n",
            "  inflating: cartoon/Cartoons_00198_01.jpg  \n",
            "  inflating: __MACOSX/cartoon/._Cartoons_00198_01.jpg  \n",
            "  inflating: cartoon/Cartoons_00098_01.jpg  \n",
            "  inflating: __MACOSX/cartoon/._Cartoons_00098_01.jpg  \n",
            "  inflating: cartoon/Cartoons_00096_04.jpg  \n",
            "  inflating: __MACOSX/cartoon/._Cartoons_00096_04.jpg  \n",
            "  inflating: cartoon/Cartoons_00403_01.jpg  \n",
            "  inflating: __MACOSX/cartoon/._Cartoons_00403_01.jpg  \n",
            "  inflating: cartoon/Cartoons_00186_01.jpg  \n",
            "  inflating: __MACOSX/cartoon/._Cartoons_00186_01.jpg  \n",
            "  inflating: cartoon/Cartoons_00331_01.jpg  \n",
            "  inflating: __MACOSX/cartoon/._Cartoons_00331_01.jpg  \n",
            "  inflating: cartoon/Cartoons_00079_02.jpg  \n",
            "  inflating: __MACOSX/cartoon/._Cartoons_00079_02.jpg  \n",
            "  inflating: cartoon/Cartoons_00333_04.jpg  \n",
            "  inflating: __MACOSX/cartoon/._Cartoons_00333_04.jpg  \n",
            "  inflating: cartoon/Cartoons_00511_01.jpg  \n",
            "  inflating: __MACOSX/cartoon/._Cartoons_00511_01.jpg  \n",
            "  inflating: cartoon/Cartoons_00240_01.jpg  \n",
            "  inflating: __MACOSX/cartoon/._Cartoons_00240_01.jpg  \n",
            "  inflating: cartoon/Cartoons_00340_01.jpg  \n",
            "  inflating: __MACOSX/cartoon/._Cartoons_00340_01.jpg  \n",
            "  inflating: cartoon/Cartoons_00472_01.jpg  \n",
            "  inflating: __MACOSX/cartoon/._Cartoons_00472_01.jpg  \n",
            "  inflating: cartoon/Cartoons_00194_01.jpg  \n",
            "  inflating: __MACOSX/cartoon/._Cartoons_00194_01.jpg  \n",
            "  inflating: cartoon/Cartoons_00554_01.jpg  \n",
            "  inflating: __MACOSX/cartoon/._Cartoons_00554_01.jpg  \n",
            "  inflating: cartoon/Cartoons_00378_01.jpg  \n",
            "  inflating: __MACOSX/cartoon/._Cartoons_00378_01.jpg  \n",
            "  inflating: cartoon/Cartoons_00153_02.jpg  \n",
            "  inflating: __MACOSX/cartoon/._Cartoons_00153_02.jpg  \n",
            "  inflating: cartoon/Cartoons_00558_01.jpg  \n",
            "  inflating: __MACOSX/cartoon/._Cartoons_00558_01.jpg  \n",
            "  inflating: cartoon/Cartoons_00425_01.jpg  \n",
            "  inflating: __MACOSX/cartoon/._Cartoons_00425_01.jpg  \n",
            "  inflating: cartoon/Cartoons_00096_01.jpg  \n",
            "  inflating: __MACOSX/cartoon/._Cartoons_00096_01.jpg  \n",
            "  inflating: cartoon/Cartoons_00198_04.jpg  \n",
            "  inflating: __MACOSX/cartoon/._Cartoons_00198_04.jpg  \n",
            "  inflating: cartoon/Cartoons_00177_02.jpg  \n",
            "  inflating: __MACOSX/cartoon/._Cartoons_00177_02.jpg  \n",
            "  inflating: cartoon/Cartoons_00413_01.jpg  \n",
            "  inflating: __MACOSX/cartoon/._Cartoons_00413_01.jpg  \n",
            "  inflating: cartoon/Cartoons_00342_01.jpg  \n",
            "  inflating: __MACOSX/cartoon/._Cartoons_00342_01.jpg  \n",
            "  inflating: cartoon/Cartoons_00333_01.jpg  \n",
            "  inflating: __MACOSX/cartoon/._Cartoons_00333_01.jpg  \n",
            "  inflating: cartoon/Cartoons_00084_01.jpg  \n",
            "  inflating: __MACOSX/cartoon/._Cartoons_00084_01.jpg  \n",
            "  inflating: cartoon/Cartoons_00153_03.jpg  \n",
            "  inflating: __MACOSX/cartoon/._Cartoons_00153_03.jpg  \n",
            "  inflating: cartoon/Cartoons_00250_01.jpg  \n",
            "  inflating: __MACOSX/cartoon/._Cartoons_00250_01.jpg  \n",
            "  inflating: cartoon/Cartoons_00153_01.jpg  \n",
            "  inflating: __MACOSX/cartoon/._Cartoons_00153_01.jpg  \n",
            "  inflating: cartoon/Cartoons_00342_03.jpg  \n",
            "  inflating: __MACOSX/cartoon/._Cartoons_00342_03.jpg  \n",
            "  inflating: cartoon/Cartoons_00413_03.jpg  \n",
            "  inflating: __MACOSX/cartoon/._Cartoons_00413_03.jpg  \n",
            "  inflating: cartoon/Cartoons_00079_05.jpg  \n",
            "  inflating: __MACOSX/cartoon/._Cartoons_00079_05.jpg  \n",
            "  inflating: cartoon/Cartoons_00295_01.jpg  \n",
            "  inflating: __MACOSX/cartoon/._Cartoons_00295_01.jpg  \n",
            "  inflating: cartoon/Cartoons_00425_02.jpg  \n",
            "  inflating: __MACOSX/cartoon/._Cartoons_00425_02.jpg  \n",
            "  inflating: cartoon/Cartoons_00096_03.jpg  \n",
            "  inflating: __MACOSX/cartoon/._Cartoons_00096_03.jpg  \n",
            "  inflating: cartoon/Cartoons_00096_02.jpg  \n",
            "  inflating: __MACOSX/cartoon/._Cartoons_00096_02.jpg  \n",
            "  inflating: cartoon/Cartoons_00079_04.jpg  \n",
            "  inflating: __MACOSX/cartoon/._Cartoons_00079_04.jpg  \n",
            "  inflating: cartoon/Cartoons_00413_02.jpg  \n",
            "  inflating: __MACOSX/cartoon/._Cartoons_00413_02.jpg  \n",
            "  inflating: cartoon/Cartoons_00342_02.jpg  \n",
            "  inflating: __MACOSX/cartoon/._Cartoons_00342_02.jpg  \n",
            "  inflating: cartoon/Cartoons_00077_01.jpg  \n",
            "  inflating: __MACOSX/cartoon/._Cartoons_00077_01.jpg  \n",
            "  inflating: cartoon/Cartoons_00177_01.jpg  \n",
            "  inflating: __MACOSX/cartoon/._Cartoons_00177_01.jpg  \n",
            "  inflating: cartoon/Cartoons_00333_02.jpg  \n",
            "  inflating: __MACOSX/cartoon/._Cartoons_00333_02.jpg  \n",
            "  inflating: cartoon/Cartoons_00006_01.jpg  \n",
            "  inflating: __MACOSX/cartoon/._Cartoons_00006_01.jpg  \n",
            "  inflating: cartoon/Cartoons_00065_01.jpg  \n",
            "  inflating: __MACOSX/cartoon/._Cartoons_00065_01.jpg  \n",
            "  inflating: cartoon/Cartoons_00440_05.jpg  \n",
            "  inflating: __MACOSX/cartoon/._Cartoons_00440_05.jpg  \n",
            "  inflating: cartoon/Cartoons_00102_02.jpg  \n",
            "  inflating: __MACOSX/cartoon/._Cartoons_00102_02.jpg  \n",
            "  inflating: cartoon/Cartoons_00383_03.jpg  \n",
            "  inflating: __MACOSX/cartoon/._Cartoons_00383_03.jpg  \n",
            "  inflating: cartoon/Cartoons_00354_01.jpg  \n",
            "  inflating: __MACOSX/cartoon/._Cartoons_00354_01.jpg  \n",
            "   creating: cartoon/.ipynb_checkpoints/\n",
            "  inflating: __MACOSX/cartoon/._.ipynb_checkpoints  \n",
            "  inflating: cartoon/Cartoons_00254_01.jpg  \n",
            "  inflating: __MACOSX/cartoon/._Cartoons_00254_01.jpg  \n",
            "  inflating: cartoon/Cartoons_00258_01.jpg  \n",
            "  inflating: __MACOSX/cartoon/._Cartoons_00258_01.jpg  \n",
            "  inflating: cartoon/Cartoons_00358_01.jpg  \n",
            "  inflating: __MACOSX/cartoon/._Cartoons_00358_01.jpg  \n",
            "  inflating: cartoon/Cartoons_00038_03.jpg  \n",
            "  inflating: __MACOSX/cartoon/._Cartoons_00038_03.jpg  \n",
            "  inflating: cartoon/Cartoons_00092_01.jpg  \n",
            "  inflating: __MACOSX/cartoon/._Cartoons_00092_01.jpg  \n",
            "  inflating: cartoon/Cartoons_00145_03.jpg  \n",
            "  inflating: __MACOSX/cartoon/._Cartoons_00145_03.jpg  \n",
            "  inflating: cartoon/Cartoons_00246_01.jpg  \n",
            "  inflating: __MACOSX/cartoon/._Cartoons_00246_01.jpg  \n",
            "  inflating: cartoon/Cartoons_00346_01.jpg  \n",
            "  inflating: __MACOSX/cartoon/._Cartoons_00346_01.jpg  \n",
            "  inflating: cartoon/Cartoons_00028_06.jpg  \n",
            "  inflating: __MACOSX/cartoon/._Cartoons_00028_06.jpg  \n",
            "  inflating: cartoon/Cartoons_00442_01.jpg  \n",
            "  inflating: __MACOSX/cartoon/._Cartoons_00442_01.jpg  \n",
            "  inflating: cartoon/Cartoons_00313_01.jpg  \n",
            "  inflating: __MACOSX/cartoon/._Cartoons_00313_01.jpg  \n",
            "  inflating: cartoon/Cartoons_00270_01.jpg  \n",
            "  inflating: __MACOSX/cartoon/._Cartoons_00270_01.jpg  \n",
            "  inflating: cartoon/Cartoons_00145_02.jpg  \n",
            "  inflating: __MACOSX/cartoon/._Cartoons_00145_02.jpg  \n",
            "  inflating: cartoon/Cartoons_00421_01.jpg  \n",
            "  inflating: __MACOSX/cartoon/._Cartoons_00421_01.jpg  \n",
            "  inflating: cartoon/Cartoons_00138_02.jpg  \n",
            "  inflating: __MACOSX/cartoon/._Cartoons_00138_02.jpg  \n",
            "  inflating: cartoon/Cartoons_00038_02.jpg  \n",
            "  inflating: __MACOSX/cartoon/._Cartoons_00038_02.jpg  \n",
            "  inflating: cartoon/Cartoons_00450_01.jpg  \n",
            "  inflating: __MACOSX/cartoon/._Cartoons_00450_01.jpg  \n",
            "  inflating: cartoon/Cartoons_00383_02.jpg  \n",
            "  inflating: __MACOSX/cartoon/._Cartoons_00383_02.jpg  \n",
            "  inflating: cartoon/Cartoons_00440_04.jpg  \n",
            "  inflating: __MACOSX/cartoon/._Cartoons_00440_04.jpg  \n",
            "  inflating: cartoon/Cartoons_00002_01.jpg  \n",
            "  inflating: __MACOSX/cartoon/._Cartoons_00002_01.jpg  \n",
            "  inflating: cartoon/Cartoons_00050_09.jpg  \n",
            "  inflating: __MACOSX/cartoon/._Cartoons_00050_09.jpg  \n",
            "  inflating: cartoon/Cartoons_00161_01.jpg  \n",
            "  inflating: __MACOSX/cartoon/._Cartoons_00161_01.jpg  \n",
            "  inflating: cartoon/Cartoons_00254_02.jpg  \n",
            "  inflating: __MACOSX/cartoon/._Cartoons_00254_02.jpg  \n",
            "  inflating: cartoon/Cartoons_00012_04.jpg  \n",
            "  inflating: __MACOSX/cartoon/._Cartoons_00012_04.jpg  \n",
            "  inflating: cartoon/Cartoons_00047_05.jpg  \n",
            "  inflating: __MACOSX/cartoon/._Cartoons_00047_05.jpg  \n",
            "  inflating: cartoon/Cartoons_00358_02.jpg  \n",
            "  inflating: __MACOSX/cartoon/._Cartoons_00358_02.jpg  \n",
            "  inflating: cartoon/Cartoons_00010_01.jpg  \n",
            "  inflating: __MACOSX/cartoon/._Cartoons_00010_01.jpg  \n",
            "  inflating: cartoon/Cartoons_00028_05.jpg  \n",
            "  inflating: __MACOSX/cartoon/._Cartoons_00028_05.jpg  \n",
            "  inflating: cartoon/Cartoons_00073_01.jpg  \n",
            "  inflating: __MACOSX/cartoon/._Cartoons_00073_01.jpg  \n",
            "  inflating: cartoon/Cartoons_00173_01.jpg  \n",
            "  inflating: __MACOSX/cartoon/._Cartoons_00173_01.jpg  \n",
            "  inflating: cartoon/Cartoons_00028_04.jpg  \n",
            "  inflating: __MACOSX/cartoon/._Cartoons_00028_04.jpg  \n",
            "  inflating: cartoon/Cartoons_00391_01.jpg  \n",
            "  inflating: __MACOSX/cartoon/._Cartoons_00391_01.jpg  \n",
            "  inflating: cartoon/Cartoons_00045_01.jpg  \n",
            "  inflating: __MACOSX/cartoon/._Cartoons_00045_01.jpg  \n",
            "  inflating: cartoon/Cartoons_00145_01.jpg  \n",
            "  inflating: __MACOSX/cartoon/._Cartoons_00145_01.jpg  \n",
            "  inflating: cartoon/Cartoons_00038_01.jpg  \n",
            "  inflating: __MACOSX/cartoon/._Cartoons_00038_01.jpg  \n",
            "  inflating: cartoon/Cartoons_00138_01.jpg  \n",
            "  inflating: __MACOSX/cartoon/._Cartoons_00138_01.jpg  \n",
            "  inflating: cartoon/Cartoons_00358_03.jpg  \n",
            "  inflating: __MACOSX/cartoon/._Cartoons_00358_03.jpg  \n",
            "  inflating: cartoon/Cartoons_00047_04.jpg  \n",
            "  inflating: __MACOSX/cartoon/._Cartoons_00047_04.jpg  \n",
            "  inflating: cartoon/Cartoons_00149_01.jpg  \n",
            "  inflating: __MACOSX/cartoon/._Cartoons_00149_01.jpg  \n",
            "  inflating: cartoon/Cartoons_00383_01.jpg  \n",
            "  inflating: __MACOSX/cartoon/._Cartoons_00383_01.jpg  \n",
            "  inflating: cartoon/Cartoons_00450_02.jpg  \n",
            "  inflating: __MACOSX/cartoon/._Cartoons_00450_02.jpg  \n",
            "  inflating: cartoon/Cartoons_00050_08.jpg  \n",
            "  inflating: __MACOSX/cartoon/._Cartoons_00050_08.jpg  \n",
            "  inflating: cartoon/Cartoons_00171_01.jpg  \n",
            "  inflating: __MACOSX/cartoon/._Cartoons_00171_01.jpg  \n",
            "  inflating: cartoon/Cartoons_00440_03.jpg  \n",
            "  inflating: __MACOSX/cartoon/._Cartoons_00440_03.jpg  \n",
            "  inflating: cartoon/Cartoons_00102_04.jpg  \n",
            "  inflating: __MACOSX/cartoon/._Cartoons_00102_04.jpg  \n",
            "  inflating: cartoon/Cartoons_00012_01.jpg  \n",
            "  inflating: __MACOSX/cartoon/._Cartoons_00012_01.jpg  \n",
            "  inflating: cartoon/Cartoons_00015_08.jpg  \n",
            "  inflating: __MACOSX/cartoon/._Cartoons_00015_08.jpg  \n",
            "  inflating: cartoon/Cartoons_00485_01.jpg  \n",
            "  inflating: __MACOSX/cartoon/._Cartoons_00485_01.jpg  \n",
            "  inflating: cartoon/Cartoons_00063_01.jpg  \n",
            "  inflating: __MACOSX/cartoon/._Cartoons_00063_01.jpg  \n",
            "  inflating: cartoon/Cartoons_00356_02.jpg  \n",
            "  inflating: __MACOSX/cartoon/._Cartoons_00356_02.jpg  \n",
            "  inflating: cartoon/Cartoons_00038_05.jpg  \n",
            "  inflating: __MACOSX/cartoon/._Cartoons_00038_05.jpg  \n",
            "  inflating: cartoon/Cartoons_00145_05.jpg  \n",
            "  inflating: __MACOSX/cartoon/._Cartoons_00145_05.jpg  \n",
            "  inflating: cartoon/Cartoons_00348_02.jpg  \n",
            "  inflating: __MACOSX/cartoon/._Cartoons_00348_02.jpg  \n",
            "  inflating: cartoon/Cartoons_00055_01.jpg  \n",
            "  inflating: __MACOSX/cartoon/._Cartoons_00055_01.jpg  \n",
            "  inflating: cartoon/Cartoons_00128_01.jpg  \n",
            "  inflating: __MACOSX/cartoon/._Cartoons_00128_01.jpg  \n",
            "  inflating: cartoon/Cartoons_00028_01.jpg  \n",
            "  inflating: __MACOSX/cartoon/._Cartoons_00028_01.jpg  \n",
            "  inflating: cartoon/Cartoons_00145_04.jpg  \n",
            "  inflating: __MACOSX/cartoon/._Cartoons_00145_04.jpg  \n",
            "  inflating: cartoon/Cartoons_00036_01.jpg  \n",
            "  inflating: __MACOSX/cartoon/._Cartoons_00036_01.jpg  \n",
            "  inflating: cartoon/Cartoons_00281_01.jpg  \n",
            "  inflating: __MACOSX/cartoon/._Cartoons_00281_01.jpg  \n",
            "  inflating: cartoon/Cartoons_00038_04.jpg  \n",
            "  inflating: __MACOSX/cartoon/._Cartoons_00038_04.jpg  \n",
            "  inflating: cartoon/Cartoons_00356_03.jpg  \n",
            "  inflating: __MACOSX/cartoon/._Cartoons_00356_03.jpg  \n",
            "  inflating: cartoon/Cartoons_00047_01.jpg  \n",
            "  inflating: __MACOSX/cartoon/._Cartoons_00047_01.jpg  \n",
            "  inflating: cartoon/Cartoons_00159_01.jpg  \n",
            "  inflating: __MACOSX/cartoon/._Cartoons_00159_01.jpg  \n",
            "  inflating: cartoon/Cartoons_00440_02.jpg  \n",
            "  inflating: __MACOSX/cartoon/._Cartoons_00440_02.jpg  \n",
            "  inflating: cartoon/Cartoons_00024_01.jpg  \n",
            "  inflating: __MACOSX/cartoon/._Cartoons_00024_01.jpg  \n",
            "  inflating: cartoon/Cartoons_00540_02.jpg  \n",
            "  inflating: __MACOSX/cartoon/._Cartoons_00540_02.jpg  \n",
            "  inflating: cartoon/Cartoons_00393_01.jpg  \n",
            "  inflating: __MACOSX/cartoon/._Cartoons_00393_01.jpg  \n",
            "  inflating: cartoon/Cartoons_00515_01.jpg  \n",
            "  inflating: __MACOSX/cartoon/._Cartoons_00515_01.jpg  \n",
            "  inflating: cartoon/Cartoons_00344_01.jpg  \n",
            "  inflating: __MACOSX/cartoon/._Cartoons_00344_01.jpg  \n",
            "  inflating: cartoon/Cartoons_00415_01.jpg  \n",
            "  inflating: __MACOSX/cartoon/._Cartoons_00415_01.jpg  \n",
            "  inflating: cartoon/Cartoons_00383_06.jpg  \n",
            "  inflating: __MACOSX/cartoon/._Cartoons_00383_06.jpg  \n",
            "  inflating: cartoon/Cartoons_00047_03.jpg  \n",
            "  inflating: __MACOSX/cartoon/._Cartoons_00047_03.jpg  \n",
            "  inflating: cartoon/Cartoons_00227_01.jpg  \n",
            "  inflating: __MACOSX/cartoon/._Cartoons_00227_01.jpg  \n",
            "  inflating: cartoon/Cartoons_00090_01.jpg  \n",
            "  inflating: __MACOSX/cartoon/._Cartoons_00090_01.jpg  \n",
            "  inflating: cartoon/Cartoons_00012_02.jpg  \n",
            "  inflating: __MACOSX/cartoon/._Cartoons_00012_02.jpg  \n",
            "  inflating: cartoon/Cartoons_00356_01.jpg  \n",
            "  inflating: __MACOSX/cartoon/._Cartoons_00356_01.jpg  \n",
            "  inflating: cartoon/Cartoons_00038_06.jpg  \n",
            "  inflating: __MACOSX/cartoon/._Cartoons_00038_06.jpg  \n",
            "  inflating: cartoon/Cartoons_00256_01.jpg  \n",
            "  inflating: __MACOSX/cartoon/._Cartoons_00256_01.jpg  \n",
            "  inflating: cartoon/Cartoons_00028_03.jpg  \n",
            "  inflating: __MACOSX/cartoon/._Cartoons_00028_03.jpg  \n",
            "  inflating: cartoon/Cartoons_00348_01.jpg  \n",
            "  inflating: __MACOSX/cartoon/._Cartoons_00348_01.jpg  \n",
            "  inflating: cartoon/Cartoons_00335_01.jpg  \n",
            "  inflating: __MACOSX/cartoon/._Cartoons_00335_01.jpg  \n",
            "  inflating: cartoon/Cartoons_00082_01.jpg  \n",
            "  inflating: __MACOSX/cartoon/._Cartoons_00082_01.jpg  \n",
            "  inflating: cartoon/Cartoons_00235_01.jpg  \n",
            "  inflating: __MACOSX/cartoon/._Cartoons_00235_01.jpg  \n",
            "  inflating: cartoon/Cartoons_00028_02.jpg  \n",
            "  inflating: __MACOSX/cartoon/._Cartoons_00028_02.jpg  \n",
            "  inflating: cartoon/Cartoons_00038_07.jpg  \n",
            "  inflating: __MACOSX/cartoon/._Cartoons_00038_07.jpg  \n",
            "  inflating: cartoon/Cartoons_00012_03.jpg  \n",
            "  inflating: __MACOSX/cartoon/._Cartoons_00012_03.jpg  \n",
            "  inflating: cartoon/Cartoons_00272_01.jpg  \n",
            "  inflating: __MACOSX/cartoon/._Cartoons_00272_01.jpg  \n",
            "  inflating: cartoon/Cartoons_00047_02.jpg  \n",
            "  inflating: __MACOSX/cartoon/._Cartoons_00047_02.jpg  \n",
            "  inflating: cartoon/Cartoons_00159_02.jpg  \n",
            "  inflating: __MACOSX/cartoon/._Cartoons_00159_02.jpg  \n",
            "  inflating: cartoon/Cartoons_00540_01.jpg  \n",
            "  inflating: __MACOSX/cartoon/._Cartoons_00540_01.jpg  \n",
            "  inflating: cartoon/Cartoons_00024_02.jpg  \n",
            "  inflating: __MACOSX/cartoon/._Cartoons_00024_02.jpg  \n",
            "  inflating: cartoon/Cartoons_00440_01.jpg  \n",
            "  inflating: __MACOSX/cartoon/._Cartoons_00440_01.jpg  \n"
          ]
        }
      ]
    },
    {
      "cell_type": "code",
      "source": [
        ""
      ],
      "metadata": {
        "id": "Ip-VueWv9uyI"
      },
      "execution_count": null,
      "outputs": []
    }
  ]
}